{
 "cells": [
  {
   "cell_type": "markdown",
   "metadata": {},
   "source": [
    "Try to follow this example that reads some student marks, and uses a function to calculate the penalty which is applied for late submission of coursework. You are asked to implement the function and then later change the implementation when the university adopts a new approach to penalising late submissions."
   ]
  },
  {
   "cell_type": "code",
   "execution_count": 3,
   "metadata": {},
   "outputs": [],
   "source": [
    "import pandas as pd\n",
    "from datetime import date "
   ]
  },
  {
   "cell_type": "code",
   "execution_count": 4,
   "metadata": {},
   "outputs": [],
   "source": [
    "marks = pd.read_excel('studentmarks.xlsx')"
   ]
  },
  {
   "cell_type": "code",
   "execution_count": 5,
   "metadata": {},
   "outputs": [
    {
     "data": {
      "text/html": [
       "<div>\n",
       "<style scoped>\n",
       "    .dataframe tbody tr th:only-of-type {\n",
       "        vertical-align: middle;\n",
       "    }\n",
       "\n",
       "    .dataframe tbody tr th {\n",
       "        vertical-align: top;\n",
       "    }\n",
       "\n",
       "    .dataframe thead th {\n",
       "        text-align: right;\n",
       "    }\n",
       "</style>\n",
       "<table border=\"1\" class=\"dataframe\">\n",
       "  <thead>\n",
       "    <tr style=\"text-align: right;\">\n",
       "      <th></th>\n",
       "      <th>Student</th>\n",
       "      <th>Mark</th>\n",
       "      <th>Submission Date</th>\n",
       "    </tr>\n",
       "  </thead>\n",
       "  <tbody>\n",
       "    <tr>\n",
       "      <th>0</th>\n",
       "      <td>Corinne White</td>\n",
       "      <td>57</td>\n",
       "      <td>2021-11-20</td>\n",
       "    </tr>\n",
       "    <tr>\n",
       "      <th>1</th>\n",
       "      <td>Imogen Moore</td>\n",
       "      <td>25</td>\n",
       "      <td>2021-11-21</td>\n",
       "    </tr>\n",
       "    <tr>\n",
       "      <th>2</th>\n",
       "      <td>Suleman Sanderson</td>\n",
       "      <td>36</td>\n",
       "      <td>2021-11-25</td>\n",
       "    </tr>\n",
       "    <tr>\n",
       "      <th>3</th>\n",
       "      <td>Alistair Fernandez</td>\n",
       "      <td>88</td>\n",
       "      <td>2021-11-21</td>\n",
       "    </tr>\n",
       "    <tr>\n",
       "      <th>4</th>\n",
       "      <td>Ashleigh Stephens</td>\n",
       "      <td>98</td>\n",
       "      <td>2021-11-23</td>\n",
       "    </tr>\n",
       "  </tbody>\n",
       "</table>\n",
       "</div>"
      ],
      "text/plain": [
       "              Student  Mark Submission Date\n",
       "0       Corinne White    57      2021-11-20\n",
       "1        Imogen Moore    25      2021-11-21\n",
       "2   Suleman Sanderson    36      2021-11-25\n",
       "3  Alistair Fernandez    88      2021-11-21\n",
       "4   Ashleigh Stephens    98      2021-11-23"
      ]
     },
     "execution_count": 5,
     "metadata": {},
     "output_type": "execute_result"
    }
   ],
   "source": [
    "marks"
   ]
  },
  {
   "cell_type": "code",
   "execution_count": 6,
   "metadata": {},
   "outputs": [],
   "source": [
    "from dateutil.parser import parse\n",
    "due_date = parse('21-11-2021')"
   ]
  },
  {
   "cell_type": "code",
   "execution_count": 7,
   "metadata": {},
   "outputs": [],
   "source": [
    "days_late = [sd - due_date for sd in marks[\"Submission Date\"]]"
   ]
  },
  {
   "cell_type": "code",
   "execution_count": 8,
   "metadata": {},
   "outputs": [
    {
     "data": {
      "text/html": [
       "<div>\n",
       "<style scoped>\n",
       "    .dataframe tbody tr th:only-of-type {\n",
       "        vertical-align: middle;\n",
       "    }\n",
       "\n",
       "    .dataframe tbody tr th {\n",
       "        vertical-align: top;\n",
       "    }\n",
       "\n",
       "    .dataframe thead th {\n",
       "        text-align: right;\n",
       "    }\n",
       "</style>\n",
       "<table border=\"1\" class=\"dataframe\">\n",
       "  <thead>\n",
       "    <tr style=\"text-align: right;\">\n",
       "      <th></th>\n",
       "      <th>Student</th>\n",
       "      <th>Mark</th>\n",
       "      <th>Submission Date</th>\n",
       "      <th>Days Late</th>\n",
       "    </tr>\n",
       "  </thead>\n",
       "  <tbody>\n",
       "    <tr>\n",
       "      <th>0</th>\n",
       "      <td>Corinne White</td>\n",
       "      <td>57</td>\n",
       "      <td>2021-11-20</td>\n",
       "      <td>-1 days</td>\n",
       "    </tr>\n",
       "    <tr>\n",
       "      <th>1</th>\n",
       "      <td>Imogen Moore</td>\n",
       "      <td>25</td>\n",
       "      <td>2021-11-21</td>\n",
       "      <td>0 days</td>\n",
       "    </tr>\n",
       "    <tr>\n",
       "      <th>2</th>\n",
       "      <td>Suleman Sanderson</td>\n",
       "      <td>36</td>\n",
       "      <td>2021-11-25</td>\n",
       "      <td>4 days</td>\n",
       "    </tr>\n",
       "    <tr>\n",
       "      <th>3</th>\n",
       "      <td>Alistair Fernandez</td>\n",
       "      <td>88</td>\n",
       "      <td>2021-11-21</td>\n",
       "      <td>0 days</td>\n",
       "    </tr>\n",
       "    <tr>\n",
       "      <th>4</th>\n",
       "      <td>Ashleigh Stephens</td>\n",
       "      <td>98</td>\n",
       "      <td>2021-11-23</td>\n",
       "      <td>2 days</td>\n",
       "    </tr>\n",
       "  </tbody>\n",
       "</table>\n",
       "</div>"
      ],
      "text/plain": [
       "              Student  Mark Submission Date Days Late\n",
       "0       Corinne White    57      2021-11-20   -1 days\n",
       "1        Imogen Moore    25      2021-11-21    0 days\n",
       "2   Suleman Sanderson    36      2021-11-25    4 days\n",
       "3  Alistair Fernandez    88      2021-11-21    0 days\n",
       "4   Ashleigh Stephens    98      2021-11-23    2 days"
      ]
     },
     "execution_count": 8,
     "metadata": {},
     "output_type": "execute_result"
    }
   ],
   "source": [
    "marks['Days Late'] = days_late\n",
    "marks"
   ]
  },
  {
   "cell_type": "code",
   "execution_count": 9,
   "metadata": {},
   "outputs": [],
   "source": [
    "dl = marks['Days Late'][2]"
   ]
  },
  {
   "cell_type": "markdown",
   "metadata": {},
   "source": [
    "The penalty is an absolute deduction of 5 marks per day late. Can you implement a function that works this out.  Two arguments are passed to the function . . the original mark and the number of days it is late."
   ]
  },
  {
   "cell_type": "code",
   "execution_count": 10,
   "metadata": {},
   "outputs": [],
   "source": [
    "def calculate_penalty(original_mark, days_late):\n",
    "    deduction = 5\n",
    "    ### you need to calculate the penalty here and return it.\n",
    "    ### at the moment this function just returns 0 penalty\n",
    "    return original_mark-days_late*deduction"
   ]
  },
  {
   "cell_type": "code",
   "execution_count": 11,
   "metadata": {},
   "outputs": [],
   "source": [
    "marks[\"Penalty\"] = [calculate_penalty(row[\"Mark\"],row[\"Days Late\"].days) for i,row in marks.iterrows()]"
   ]
  },
  {
   "cell_type": "code",
   "execution_count": 12,
   "metadata": {},
   "outputs": [],
   "source": [
    "marks[\"Capped Mark\"] = [row[\"Mark\"] - row[\"Penalty\"] for i,row in marks.iterrows()]"
   ]
  },
  {
   "cell_type": "code",
   "execution_count": 13,
   "metadata": {
    "scrolled": true
   },
   "outputs": [
    {
     "data": {
      "text/html": [
       "<div>\n",
       "<style scoped>\n",
       "    .dataframe tbody tr th:only-of-type {\n",
       "        vertical-align: middle;\n",
       "    }\n",
       "\n",
       "    .dataframe tbody tr th {\n",
       "        vertical-align: top;\n",
       "    }\n",
       "\n",
       "    .dataframe thead th {\n",
       "        text-align: right;\n",
       "    }\n",
       "</style>\n",
       "<table border=\"1\" class=\"dataframe\">\n",
       "  <thead>\n",
       "    <tr style=\"text-align: right;\">\n",
       "      <th></th>\n",
       "      <th>Student</th>\n",
       "      <th>Mark</th>\n",
       "      <th>Submission Date</th>\n",
       "      <th>Days Late</th>\n",
       "      <th>Penalty</th>\n",
       "      <th>Capped Mark</th>\n",
       "    </tr>\n",
       "  </thead>\n",
       "  <tbody>\n",
       "    <tr>\n",
       "      <th>0</th>\n",
       "      <td>Corinne White</td>\n",
       "      <td>57</td>\n",
       "      <td>2021-11-20</td>\n",
       "      <td>-1 days</td>\n",
       "      <td>62</td>\n",
       "      <td>-5</td>\n",
       "    </tr>\n",
       "    <tr>\n",
       "      <th>1</th>\n",
       "      <td>Imogen Moore</td>\n",
       "      <td>25</td>\n",
       "      <td>2021-11-21</td>\n",
       "      <td>0 days</td>\n",
       "      <td>25</td>\n",
       "      <td>0</td>\n",
       "    </tr>\n",
       "    <tr>\n",
       "      <th>2</th>\n",
       "      <td>Suleman Sanderson</td>\n",
       "      <td>36</td>\n",
       "      <td>2021-11-25</td>\n",
       "      <td>4 days</td>\n",
       "      <td>16</td>\n",
       "      <td>20</td>\n",
       "    </tr>\n",
       "    <tr>\n",
       "      <th>3</th>\n",
       "      <td>Alistair Fernandez</td>\n",
       "      <td>88</td>\n",
       "      <td>2021-11-21</td>\n",
       "      <td>0 days</td>\n",
       "      <td>88</td>\n",
       "      <td>0</td>\n",
       "    </tr>\n",
       "    <tr>\n",
       "      <th>4</th>\n",
       "      <td>Ashleigh Stephens</td>\n",
       "      <td>98</td>\n",
       "      <td>2021-11-23</td>\n",
       "      <td>2 days</td>\n",
       "      <td>88</td>\n",
       "      <td>10</td>\n",
       "    </tr>\n",
       "  </tbody>\n",
       "</table>\n",
       "</div>"
      ],
      "text/plain": [
       "              Student  Mark Submission Date Days Late  Penalty  Capped Mark\n",
       "0       Corinne White    57      2021-11-20   -1 days       62           -5\n",
       "1        Imogen Moore    25      2021-11-21    0 days       25            0\n",
       "2   Suleman Sanderson    36      2021-11-25    4 days       16           20\n",
       "3  Alistair Fernandez    88      2021-11-21    0 days       88            0\n",
       "4   Ashleigh Stephens    98      2021-11-23    2 days       88           10"
      ]
     },
     "execution_count": 13,
     "metadata": {},
     "output_type": "execute_result"
    }
   ],
   "source": [
    "marks"
   ]
  },
  {
   "cell_type": "markdown",
   "metadata": {},
   "source": [
    "Now the penalty mechanism has been changed.  Marks are capped to a 40 if the work is submitted late.  What do you need to change?"
   ]
  },
  {
   "cell_type": "code",
   "execution_count": null,
   "metadata": {},
   "outputs": [],
   "source": []
  }
 ],
 "metadata": {
  "kernelspec": {
   "display_name": "Python 3 (ipykernel)",
   "language": "python",
   "name": "python3"
  },
  "language_info": {
   "codemirror_mode": {
    "name": "ipython",
    "version": 3
   },
   "file_extension": ".py",
   "mimetype": "text/x-python",
   "name": "python",
   "nbconvert_exporter": "python",
   "pygments_lexer": "ipython3",
   "version": "3.9.7"
  }
 },
 "nbformat": 4,
 "nbformat_minor": 2
}
