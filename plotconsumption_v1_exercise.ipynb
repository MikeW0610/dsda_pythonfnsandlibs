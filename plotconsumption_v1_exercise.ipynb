{
 "cells": [
  {
   "cell_type": "markdown",
   "metadata": {},
   "source": [
    "In this worksheet, we're going to pick out some data from a large dataset and plot it.\n",
    "\n",
    "First, let's import some external libraries that we will need."
   ]
  },
  {
   "cell_type": "code",
   "execution_count": null,
   "metadata": {},
   "outputs": [],
   "source": [
    "import pandas as pd\n",
    "import matplotlib.pyplot as plt\n",
    "import numpy as np"
   ]
  },
  {
   "cell_type": "markdown",
   "metadata": {},
   "source": [
    "Read some consumption data from a csv file. It contains 3,248 sets of meter readings in half-hourly periods throughout 2017.  It will take longer to load than previous examples."
   ]
  },
  {
   "cell_type": "markdown",
   "metadata": {},
   "source": [
    "Use Pandas to load the `consumption.csv` file into a dataframe"
   ]
  },
  {
   "cell_type": "code",
   "execution_count": null,
   "metadata": {},
   "outputs": [],
   "source": [
    "consumption = #Your code here!"
   ]
  },
  {
   "cell_type": "markdown",
   "metadata": {},
   "source": [
    "Now we will choose a particular customer, identified by their meter id.  We'll chose the 500th row.\n",
    "\n",
    "So, you need to pick the 500th row from the \"meter_id\" column."
   ]
  },
  {
   "cell_type": "code",
   "execution_count": null,
   "metadata": {},
   "outputs": [],
   "source": [
    "meter_id = consumption[## YOUR CODE HERE ##][## YOUR CODE HERE ##]"
   ]
  },
  {
   "cell_type": "code",
   "execution_count": null,
   "metadata": {},
   "outputs": [],
   "source": [
    "consumption_for_meterid = consumption[consumption['meter_id'].isin([### HOW DO WE SELECT THE CORRECT ID?])]"
   ]
  },
  {
   "cell_type": "markdown",
   "metadata": {},
   "source": [
    "Let's now pick a date and filter just the meter readings for that day. First we get hold of the date/time labels, then use them to filter the readings that we need."
   ]
  },
  {
   "cell_type": "code",
   "execution_count": null,
   "metadata": {},
   "outputs": [],
   "source": [
    "reading_times = [x for x in consumption_for_meterid.columns if(x[0:10]=='2017-12-15')]"
   ]
  },
  {
   "cell_type": "code",
   "execution_count": null,
   "metadata": {},
   "outputs": [],
   "source": [
    "consumption_for_meterid_filtered = consumption_for_meterid[reading_times]"
   ]
  },
  {
   "cell_type": "markdown",
   "metadata": {},
   "source": [
    "The `consumption.csv` file had series in rows rather than columns.  We'll create a new DataFrame and add the reading times as the index and the column contains the corresponding readings for each half hourly slot."
   ]
  },
  {
   "cell_type": "code",
   "execution_count": null,
   "metadata": {},
   "outputs": [],
   "source": [
    "meter_readings = pd.DataFrame(index = reading_times, columns=[\"Reading\"])"
   ]
  },
  {
   "cell_type": "code",
   "execution_count": null,
   "metadata": {},
   "outputs": [],
   "source": [
    "meter_readings[\"Reading\"] = consumption_for_meterid_filtered.iloc[0,0:len(reading_times)+1].values"
   ]
  },
  {
   "cell_type": "markdown",
   "metadata": {},
   "source": [
    "Set up a graph with some titles and axis labels. Check the documentation for matplotlib.  You can get some useful cheat sheets if you want to play with the features. [matplotlib documentation](https://matplotlib.org/stable/index.html)"
   ]
  },
  {
   "cell_type": "code",
   "execution_count": null,
   "metadata": {},
   "outputs": [],
   "source": [
    "plt.title('Electricity Consumption', fontsize=14)\n",
    "plt.xlabel('Time', fontsize=14)\n",
    "plt.ylabel('Energy MWh', fontsize=14)\n",
    "plt.xticks(np.arange(0, 48, 6), rotation=90)\n",
    "\n",
    "plt.plot(reading_times, consumption_for_meterid_filtered.values[0], 'b')\n",
    "\n",
    "#plt.savefig('Consumption.jpg', bbox_inches='tight')"
   ]
  },
  {
   "cell_type": "markdown",
   "metadata": {},
   "source": [
    "Try plotting another graph for another date."
   ]
  },
  {
   "cell_type": "code",
   "execution_count": null,
   "metadata": {},
   "outputs": [],
   "source": []
  }
 ],
 "metadata": {
  "kernelspec": {
   "display_name": "Python 3",
   "language": "python",
   "name": "python3"
  },
  "language_info": {
   "codemirror_mode": {
    "name": "ipython",
    "version": 3
   },
   "file_extension": ".py",
   "mimetype": "text/x-python",
   "name": "python",
   "nbconvert_exporter": "python",
   "pygments_lexer": "ipython3",
   "version": "3.7.4"
  }
 },
 "nbformat": 4,
 "nbformat_minor": 2
}
